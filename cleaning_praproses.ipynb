{
 "cells": [
  {
   "cell_type": "code",
   "execution_count": 159,
   "metadata": {},
   "outputs": [],
   "source": [
    "import pandas as pd\n",
    "\n",
    "data = pd.read_csv(\n",
    "    'hasil_eda.csv'\n",
    "    , header=0\n",
    ")"
   ]
  },
  {
   "cell_type": "markdown",
   "metadata": {},
   "source": [
    "# 1. Clean Data"
   ]
  },
  {
   "cell_type": "markdown",
   "metadata": {},
   "source": [
    "## a. Duplikat"
   ]
  },
  {
   "cell_type": "code",
   "execution_count": 160,
   "metadata": {},
   "outputs": [],
   "source": [
    "# Menemukan duplikat berdasarkan kolom 'teks'\n",
    "duplikat = data[\n",
    "    data.duplicated(\n",
    "        subset=['teks']\n",
    "        , keep=False\n",
    "    )\n",
    "]\n",
    "# Menampilkan hasil, untuk melihat data duplikat\n",
    "duplikat.to_csv(\n",
    "    'duplikat.csv'\n",
    "    , index=False\n",
    ")"
   ]
  },
  {
   "cell_type": "code",
   "execution_count": 161,
   "metadata": {},
   "outputs": [],
   "source": [
    "# Menghapus duplikat berdasarkan kolom 'teks', menyisakan satu saja\n",
    "data.drop_duplicates(\n",
    "    subset=['teks']\n",
    "    , keep='first' # Menyisakan salah satu teks dari duplikat\n",
    "    , inplace=True # Perubahan langsung diterapkan ke data\n",
    ")"
   ]
  },
  {
   "cell_type": "markdown",
   "metadata": {},
   "source": [
    "## b. Outlier"
   ]
  },
  {
   "cell_type": "code",
   "execution_count": 162,
   "metadata": {},
   "outputs": [],
   "source": [
    "data.drop(\n",
    "    data[data[\"is_outlier\"] == True].index\n",
    "    , inplace=True\n",
    ")\n",
    "data.to_csv(\n",
    "    'non_outlier.csv'\n",
    "    , index=False\n",
    ")"
   ]
  },
  {
   "cell_type": "markdown",
   "metadata": {},
   "source": [
    "# 2.Praproses Data"
   ]
  },
  {
   "cell_type": "code",
   "execution_count": 163,
   "metadata": {},
   "outputs": [],
   "source": [
    "import nltk\n",
    "import re"
   ]
  },
  {
   "cell_type": "code",
   "execution_count": 164,
   "metadata": {},
   "outputs": [
    {
     "name": "stderr",
     "output_type": "stream",
     "text": [
      "[nltk_data] Downloading package punkt to\n",
      "[nltk_data]     C:\\Users\\HP\\AppData\\Roaming\\nltk_data...\n",
      "[nltk_data]   Package punkt is already up-to-date!\n"
     ]
    },
    {
     "data": {
      "text/plain": [
       "True"
      ]
     },
     "execution_count": 164,
     "metadata": {},
     "output_type": "execute_result"
    }
   ],
   "source": [
    "nltk.download('punkt')"
   ]
  },
  {
   "cell_type": "markdown",
   "metadata": {},
   "source": [
    "## c. normalisasi"
   ]
  },
  {
   "cell_type": "code",
   "execution_count": 165,
   "metadata": {},
   "outputs": [],
   "source": [
    "#Sumber: Medium\n",
    "def normalize_teks(teks):\n",
    "    teks = teks.lower()              # huruf kecil semua\n",
    "    teks = re.sub(r'[^a-zA-Z\\s]', '', teks) # hapus semua karakter selain huruf dan spasi\n",
    "    teks = re.sub(r'\\s+', ' ', teks).strip()  # hapus spasi ganda\n",
    "    return teks\n",
    "\n",
    "# Terapkan normalisasi pada kolom 'teks'\n",
    "data['teks_normal'] = data['teks'].apply(normalize_teks)"
   ]
  },
  {
   "cell_type": "code",
   "execution_count": 166,
   "metadata": {},
   "outputs": [
    {
     "name": "stderr",
     "output_type": "stream",
     "text": [
      "[nltk_data] Downloading package punkt to\n",
      "[nltk_data]     C:\\Users\\HP\\AppData\\Roaming\\nltk_data...\n",
      "[nltk_data]   Package punkt is already up-to-date!\n",
      "[nltk_data] Downloading package stopwords to\n",
      "[nltk_data]     C:\\Users\\HP\\AppData\\Roaming\\nltk_data...\n",
      "[nltk_data]   Package stopwords is already up-to-date!\n"
     ]
    }
   ],
   "source": [
    "from nltk.corpus import stopwords\n",
    "from nltk.tokenize import word_tokenize\n",
    "nltk.download('punkt')\n",
    "nltk.download('stopwords')\n",
    "stop_words = set(stopwords.words('indonesian'))"
   ]
  },
  {
   "cell_type": "markdown",
   "metadata": {},
   "source": [
    "## d. teks stopword"
   ]
  },
  {
   "cell_type": "code",
   "execution_count": 167,
   "metadata": {},
   "outputs": [],
   "source": [
    "import string\n",
    "# Stopword Removal\n",
    "def remove_stopwords(teks_normal):\n",
    "    tokens = word_tokenize(teks_normal)\n",
    "    filtered = [word for word in tokens if word not in stop_words and word not in string.punctuation]\n",
    "    return ' '.join(filtered)\n",
    "\n",
    "data['teks_stopword'] = data['teks_normal'].apply(remove_stopwords)"
   ]
  },
  {
   "cell_type": "markdown",
   "metadata": {},
   "source": [
    "## e. tokenisasi"
   ]
  },
  {
   "cell_type": "code",
   "execution_count": 168,
   "metadata": {},
   "outputs": [],
   "source": [
    "# Tokenisasi\n",
    "def tokenize(teks_stopword):\n",
    "    return word_tokenize(teks_stopword)\n",
    "\n",
    "data['teks_tokenisasi'] = data['teks_stopword'].apply(tokenize)"
   ]
  },
  {
   "cell_type": "code",
   "execution_count": 169,
   "metadata": {},
   "outputs": [],
   "source": [
    "data.to_csv(\n",
    "    'teks_tokenisasi.csv'\n",
    "    , index=False\n",
    ")"
   ]
  },
  {
   "cell_type": "markdown",
   "metadata": {},
   "source": [
    "## f. Panjang Teks"
   ]
  },
  {
   "cell_type": "code",
   "execution_count": 170,
   "metadata": {},
   "outputs": [],
   "source": [
    "# Menghitung panjang teks dalam karakter baru\n",
    "data['panjang_teks'] = data['teks_stopword'].str.len()"
   ]
  },
  {
   "cell_type": "code",
   "execution_count": 171,
   "metadata": {},
   "outputs": [],
   "source": [
    "# Hitung rata-rata panjang teks untuk AI dan non-AI\n",
    "rata2_ai = data[data['label'] == 1]['panjang_teks'].mean()\n",
    "rata2_nonai = data[data['label'] == 0]['panjang_teks'].mean()\n",
    "\n",
    "# Fungsi untuk menghitung rasio_panjang_teks\n",
    "def hitung_rasio_panjang(teks_panjang):\n",
    "    jarak_ke_ai = abs(teks_panjang - rata2_ai)\n",
    "    jarak_ke_nonai = abs(teks_panjang - rata2_nonai)\n",
    "    return 1 if jarak_ke_ai < jarak_ke_nonai else 0\n",
    "\n",
    "# Terapkan ke seluruh data\n",
    "data['rasio_panjang_teks'] = data['panjang_teks'].apply(hitung_rasio_panjang)\n"
   ]
  },
  {
   "cell_type": "code",
   "execution_count": 172,
   "metadata": {},
   "outputs": [
    {
     "data": {
      "text/plain": [
       "(234.41333333333333, 106.9693094629156)"
      ]
     },
     "execution_count": 172,
     "metadata": {},
     "output_type": "execute_result"
    }
   ],
   "source": [
    "rata2_ai, rata2_nonai"
   ]
  },
  {
   "cell_type": "markdown",
   "metadata": {},
   "source": [
    "## g. POS-Tagging dan Stopword"
   ]
  },
  {
   "cell_type": "code",
   "execution_count": 173,
   "metadata": {},
   "outputs": [],
   "source": [
    "import stanza\n",
    "from collections import Counter"
   ]
  },
  {
   "cell_type": "code",
   "execution_count": 174,
   "metadata": {},
   "outputs": [
    {
     "name": "stderr",
     "output_type": "stream",
     "text": [
      "Downloading https://raw.githubusercontent.com/stanfordnlp/stanza-resources/main/resources_1.10.0.json: 432kB [00:00, 18.3MB/s]                    \n",
      "2025-06-17 20:26:29 INFO: Downloaded file to C:\\Users\\HP\\stanza_resources\\resources.json\n",
      "2025-06-17 20:26:29 INFO: Downloading default packages for language: id (Indonesian) ...\n",
      "2025-06-17 20:26:31 INFO: File exists: C:\\Users\\HP\\stanza_resources\\id\\default.zip\n",
      "2025-06-17 20:26:38 INFO: Finished downloading models and saved to C:\\Users\\HP\\stanza_resources\n",
      "2025-06-17 20:26:38 INFO: Checking for updates to resources.json in case models have been updated.  Note: this behavior can be turned off with download_method=None or download_method=DownloadMethod.REUSE_RESOURCES\n",
      "Downloading https://raw.githubusercontent.com/stanfordnlp/stanza-resources/main/resources_1.10.0.json: 432kB [00:00, 27.3MB/s]                    \n",
      "2025-06-17 20:26:40 INFO: Downloaded file to C:\\Users\\HP\\stanza_resources\\resources.json\n",
      "2025-06-17 20:26:40 WARNING: Language id package default expects mwt, which has been added\n",
      "2025-06-17 20:26:41 INFO: Loading these models for language: id (Indonesian):\n",
      "==========================\n",
      "| Processor | Package    |\n",
      "--------------------------\n",
      "| tokenize  | gsd        |\n",
      "| mwt       | gsd        |\n",
      "| pos       | gsd_charlm |\n",
      "==========================\n",
      "\n",
      "2025-06-17 20:26:41 INFO: Using device: cpu\n",
      "2025-06-17 20:26:41 INFO: Loading: tokenize\n",
      "2025-06-17 20:26:41 INFO: Loading: mwt\n",
      "2025-06-17 20:26:41 INFO: Loading: pos\n",
      "2025-06-17 20:26:46 INFO: Done loading processors!\n"
     ]
    }
   ],
   "source": [
    "# Mengunduh model Bahasa Indonesia\n",
    "stanza.download('id')\n",
    "nlp = stanza.Pipeline(lang='id', processors='tokenize,pos')"
   ]
  },
  {
   "cell_type": "code",
   "execution_count": 175,
   "metadata": {},
   "outputs": [],
   "source": [
    "# Load bobot POS\n",
    "bobot_pos = pd.read_csv('bobot_pos_tag.csv')\n",
    "\n",
    "# Konversi bobot ke dictionary\n",
    "bobot_POS = dict(zip(bobot_pos['POS_Tag'], bobot_pos['Bobot']))\n",
    "\n",
    "#Load stopword bobot\n",
    "bobot_stopword = pd.read_csv('bobot_Stopword.csv')\n",
    "\n",
    "bobot_SW = dict(zip(bobot_stopword['Stopword'], bobot_stopword['Bobot']))"
   ]
  },
  {
   "cell_type": "code",
   "execution_count": 176,
   "metadata": {},
   "outputs": [],
   "source": [
    "def hitung_skor_pos(teks, bobot_POS):\n",
    "    doc = nlp(teks)\n",
    "    tags = [word.upos for sent in doc.sentences for word in sent.words]\n",
    "    tag_counter = Counter(tags)\n",
    "    \n",
    "    total_bobot = 0\n",
    "    total_tag = 0\n",
    "\n",
    "    for tag, jumlah in tag_counter.items():\n",
    "        bobot = bobot_POS.get(tag, 0.5)  # bobot 0.5 jika tag tidak ditemukan\n",
    "        total_bobot += bobot * jumlah\n",
    "        total_tag += jumlah\n",
    "\n",
    "    skor_rata2 = total_bobot / total_tag if total_tag > 0 else 0\n",
    "    return skor_rata2\n",
    "\n",
    "# Hitung skor untuk setiap teks\n",
    "data['rasio_pos_tagging'] = data['teks'].apply(lambda x: hitung_skor_pos(x, bobot_POS))"
   ]
  },
  {
   "cell_type": "code",
   "execution_count": 177,
   "metadata": {},
   "outputs": [],
   "source": [
    "data.to_csv(\"posT.csv\", index=False)"
   ]
  },
  {
   "cell_type": "code",
   "execution_count": 178,
   "metadata": {},
   "outputs": [],
   "source": [
    "def hitung_skor_stopword(teks, bobot_SW, stop_words):\n",
    "    tokens = word_tokenize(teks.lower())\n",
    "    stopword_tokens = [t for t in tokens if t in stop_words]\n",
    "\n",
    "    token_counter = Counter(stopword_tokens)\n",
    "    \n",
    "    total_bobot = 0\n",
    "    total_token = 0\n",
    "\n",
    "    for token, jumlah in token_counter.items():\n",
    "        bobot = bobot_SW.get(token, 0.5)  # Jika token tidak punya bobot, dianggap 0.5\n",
    "        total_bobot += bobot * jumlah\n",
    "        total_token += jumlah\n",
    "\n",
    "    # Skor rata-rata (normalisasi), bisa juga pakai total_bobot langsung\n",
    "    skor_rata2 = total_bobot / total_token if total_token > 0 else 0\n",
    "    return skor_rata2\n",
    "\n",
    "data['rasio_stopword'] = data['teks'].apply(lambda x: hitung_skor_stopword(x, bobot_SW, stop_words))"
   ]
  },
  {
   "cell_type": "code",
   "execution_count": 179,
   "metadata": {},
   "outputs": [],
   "source": [
    "data.to_csv('teks_cleaning.csv', index=False)"
   ]
  },
  {
   "cell_type": "code",
   "execution_count": 180,
   "metadata": {},
   "outputs": [
    {
     "data": {
      "text/plain": [
       "label\n",
       "0    391\n",
       "1    375\n",
       "Name: count, dtype: int64"
      ]
     },
     "execution_count": 180,
     "metadata": {},
     "output_type": "execute_result"
    }
   ],
   "source": [
    "jumlah_label = data['label'].value_counts()\n",
    "jumlah_label"
   ]
  },
  {
   "cell_type": "code",
   "execution_count": 181,
   "metadata": {},
   "outputs": [
    {
     "data": {
      "text/html": [
       "<div>\n",
       "<style scoped>\n",
       "    .dataframe tbody tr th:only-of-type {\n",
       "        vertical-align: middle;\n",
       "    }\n",
       "\n",
       "    .dataframe tbody tr th {\n",
       "        vertical-align: top;\n",
       "    }\n",
       "\n",
       "    .dataframe thead th {\n",
       "        text-align: right;\n",
       "    }\n",
       "</style>\n",
       "<table border=\"1\" class=\"dataframe\">\n",
       "  <thead>\n",
       "    <tr style=\"text-align: right;\">\n",
       "      <th></th>\n",
       "      <th>teks</th>\n",
       "      <th>label</th>\n",
       "      <th>panjang_teks</th>\n",
       "      <th>is_noise</th>\n",
       "      <th>is_outlier</th>\n",
       "      <th>teks_normal</th>\n",
       "      <th>teks_stopword</th>\n",
       "      <th>teks_tokenisasi</th>\n",
       "      <th>rasio_panjang_teks</th>\n",
       "      <th>rasio_pos_tagging</th>\n",
       "      <th>rasio_stopword</th>\n",
       "    </tr>\n",
       "  </thead>\n",
       "  <tbody>\n",
       "    <tr>\n",
       "      <th>4</th>\n",
       "      <td>Saya adalah asisten berbasis kecerdasan buatan...</td>\n",
       "      <td>1</td>\n",
       "      <td>435</td>\n",
       "      <td>False</td>\n",
       "      <td>False</td>\n",
       "      <td>saya adalah asisten berbasis kecerdasan buatan...</td>\n",
       "      <td>asisten berbasis kecerdasan buatan dikembangka...</td>\n",
       "      <td>[asisten, berbasis, kecerdasan, buatan, dikemb...</td>\n",
       "      <td>1</td>\n",
       "      <td>0.606667</td>\n",
       "      <td>0.398998</td>\n",
       "    </tr>\n",
       "    <tr>\n",
       "      <th>7</th>\n",
       "      <td>Untuk membedakan antara **kata benda**, **kata...</td>\n",
       "      <td>1</td>\n",
       "      <td>363</td>\n",
       "      <td>False</td>\n",
       "      <td>False</td>\n",
       "      <td>untuk membedakan antara kata benda kata kerja ...</td>\n",
       "      <td>membedakan benda kerja sifat fungsi peran kali...</td>\n",
       "      <td>[membedakan, benda, kerja, sifat, fungsi, pera...</td>\n",
       "      <td>1</td>\n",
       "      <td>0.758450</td>\n",
       "      <td>0.241968</td>\n",
       "    </tr>\n",
       "    <tr>\n",
       "      <th>8</th>\n",
       "      <td>Jika kita menjatuhkan batu dan kertas dari ket...</td>\n",
       "      <td>1</td>\n",
       "      <td>428</td>\n",
       "      <td>False</td>\n",
       "      <td>False</td>\n",
       "      <td>jika kita menjatuhkan batu dan kertas dari ket...</td>\n",
       "      <td>menjatuhkan batu kertas ketinggian ruangan ham...</td>\n",
       "      <td>[menjatuhkan, batu, kertas, ketinggian, ruanga...</td>\n",
       "      <td>1</td>\n",
       "      <td>0.608409</td>\n",
       "      <td>0.359802</td>\n",
       "    </tr>\n",
       "    <tr>\n",
       "      <th>13</th>\n",
       "      <td>Salah satu contoh kerajinan tradisional dari I...</td>\n",
       "      <td>1</td>\n",
       "      <td>522</td>\n",
       "      <td>False</td>\n",
       "      <td>False</td>\n",
       "      <td>salah satu contoh kerajinan tradisional dari i...</td>\n",
       "      <td>salah contoh kerajinan tradisional indonesia t...</td>\n",
       "      <td>[salah, contoh, kerajinan, tradisional, indone...</td>\n",
       "      <td>1</td>\n",
       "      <td>0.629012</td>\n",
       "      <td>0.306736</td>\n",
       "    </tr>\n",
       "    <tr>\n",
       "      <th>18</th>\n",
       "      <td>Menurut saya, kebahagiaan adalah perasaan dama...</td>\n",
       "      <td>1</td>\n",
       "      <td>443</td>\n",
       "      <td>False</td>\n",
       "      <td>False</td>\n",
       "      <td>menurut saya kebahagiaan adalah perasaan damai...</td>\n",
       "      <td>kebahagiaan perasaan damai puas pencapaian hal...</td>\n",
       "      <td>[kebahagiaan, perasaan, damai, puas, pencapaia...</td>\n",
       "      <td>1</td>\n",
       "      <td>0.551927</td>\n",
       "      <td>0.310078</td>\n",
       "    </tr>\n",
       "    <tr>\n",
       "      <th>...</th>\n",
       "      <td>...</td>\n",
       "      <td>...</td>\n",
       "      <td>...</td>\n",
       "      <td>...</td>\n",
       "      <td>...</td>\n",
       "      <td>...</td>\n",
       "      <td>...</td>\n",
       "      <td>...</td>\n",
       "      <td>...</td>\n",
       "      <td>...</td>\n",
       "      <td>...</td>\n",
       "    </tr>\n",
       "    <tr>\n",
       "      <th>851</th>\n",
       "      <td>Cross-validation adalah salah satu metode pemi...</td>\n",
       "      <td>0</td>\n",
       "      <td>164</td>\n",
       "      <td>False</td>\n",
       "      <td>False</td>\n",
       "      <td>crossvalidation adalah salah satu metode pemis...</td>\n",
       "      <td>crossvalidation salah metode pemisahan data me...</td>\n",
       "      <td>[crossvalidation, salah, metode, pemisahan, da...</td>\n",
       "      <td>0</td>\n",
       "      <td>0.574987</td>\n",
       "      <td>0.299704</td>\n",
       "    </tr>\n",
       "    <tr>\n",
       "      <th>852</th>\n",
       "      <td>Diperlukan utilitas untuk dapat memindahkan at...</td>\n",
       "      <td>0</td>\n",
       "      <td>168</td>\n",
       "      <td>False</td>\n",
       "      <td>False</td>\n",
       "      <td>diperlukan utilitas untuk dapat memindahkan at...</td>\n",
       "      <td>utilitas memindahkan model dilatih komputer jo...</td>\n",
       "      <td>[utilitas, memindahkan, model, dilatih, komput...</td>\n",
       "      <td>0</td>\n",
       "      <td>0.588953</td>\n",
       "      <td>0.355489</td>\n",
       "    </tr>\n",
       "    <tr>\n",
       "      <th>856</th>\n",
       "      <td>Kebebasan pers di Indonesia tidak secara langs...</td>\n",
       "      <td>0</td>\n",
       "      <td>546</td>\n",
       "      <td>False</td>\n",
       "      <td>False</td>\n",
       "      <td>kebebasan pers di indonesia tidak secara langs...</td>\n",
       "      <td>kebebasan pers indonesia langsung pasalpasal u...</td>\n",
       "      <td>[kebebasan, pers, indonesia, langsung, pasalpa...</td>\n",
       "      <td>1</td>\n",
       "      <td>0.572114</td>\n",
       "      <td>0.269088</td>\n",
       "    </tr>\n",
       "    <tr>\n",
       "      <th>859</th>\n",
       "      <td>Tujuan utama dari tugas berbasis klasifikasi a...</td>\n",
       "      <td>0</td>\n",
       "      <td>296</td>\n",
       "      <td>False</td>\n",
       "      <td>False</td>\n",
       "      <td>tujuan utama dari tugas berbasis klasifikasi a...</td>\n",
       "      <td>tujuan utama tugas berbasis klasifikasi mempre...</td>\n",
       "      <td>[tujuan, utama, tugas, berbasis, klasifikasi, ...</td>\n",
       "      <td>1</td>\n",
       "      <td>0.562554</td>\n",
       "      <td>0.327532</td>\n",
       "    </tr>\n",
       "    <tr>\n",
       "      <th>863</th>\n",
       "      <td>Yokai adalah entitas yang melampaui pemahaman ...</td>\n",
       "      <td>0</td>\n",
       "      <td>427</td>\n",
       "      <td>False</td>\n",
       "      <td>False</td>\n",
       "      <td>yokai adalah entitas yang melampaui pemahaman ...</td>\n",
       "      <td>yokai entitas melampaui pemahaman manusia mewa...</td>\n",
       "      <td>[yokai, entitas, melampaui, pemahaman, manusia...</td>\n",
       "      <td>1</td>\n",
       "      <td>0.619133</td>\n",
       "      <td>0.316691</td>\n",
       "    </tr>\n",
       "  </tbody>\n",
       "</table>\n",
       "<p>766 rows × 11 columns</p>\n",
       "</div>"
      ],
      "text/plain": [
       "                                                  teks  label  panjang_teks  \\\n",
       "4    Saya adalah asisten berbasis kecerdasan buatan...      1           435   \n",
       "7    Untuk membedakan antara **kata benda**, **kata...      1           363   \n",
       "8    Jika kita menjatuhkan batu dan kertas dari ket...      1           428   \n",
       "13   Salah satu contoh kerajinan tradisional dari I...      1           522   \n",
       "18   Menurut saya, kebahagiaan adalah perasaan dama...      1           443   \n",
       "..                                                 ...    ...           ...   \n",
       "851  Cross-validation adalah salah satu metode pemi...      0           164   \n",
       "852  Diperlukan utilitas untuk dapat memindahkan at...      0           168   \n",
       "856  Kebebasan pers di Indonesia tidak secara langs...      0           546   \n",
       "859  Tujuan utama dari tugas berbasis klasifikasi a...      0           296   \n",
       "863  Yokai adalah entitas yang melampaui pemahaman ...      0           427   \n",
       "\n",
       "     is_noise  is_outlier                                        teks_normal  \\\n",
       "4       False       False  saya adalah asisten berbasis kecerdasan buatan...   \n",
       "7       False       False  untuk membedakan antara kata benda kata kerja ...   \n",
       "8       False       False  jika kita menjatuhkan batu dan kertas dari ket...   \n",
       "13      False       False  salah satu contoh kerajinan tradisional dari i...   \n",
       "18      False       False  menurut saya kebahagiaan adalah perasaan damai...   \n",
       "..        ...         ...                                                ...   \n",
       "851     False       False  crossvalidation adalah salah satu metode pemis...   \n",
       "852     False       False  diperlukan utilitas untuk dapat memindahkan at...   \n",
       "856     False       False  kebebasan pers di indonesia tidak secara langs...   \n",
       "859     False       False  tujuan utama dari tugas berbasis klasifikasi a...   \n",
       "863     False       False  yokai adalah entitas yang melampaui pemahaman ...   \n",
       "\n",
       "                                         teks_stopword  \\\n",
       "4    asisten berbasis kecerdasan buatan dikembangka...   \n",
       "7    membedakan benda kerja sifat fungsi peran kali...   \n",
       "8    menjatuhkan batu kertas ketinggian ruangan ham...   \n",
       "13   salah contoh kerajinan tradisional indonesia t...   \n",
       "18   kebahagiaan perasaan damai puas pencapaian hal...   \n",
       "..                                                 ...   \n",
       "851  crossvalidation salah metode pemisahan data me...   \n",
       "852  utilitas memindahkan model dilatih komputer jo...   \n",
       "856  kebebasan pers indonesia langsung pasalpasal u...   \n",
       "859  tujuan utama tugas berbasis klasifikasi mempre...   \n",
       "863  yokai entitas melampaui pemahaman manusia mewa...   \n",
       "\n",
       "                                       teks_tokenisasi  rasio_panjang_teks  \\\n",
       "4    [asisten, berbasis, kecerdasan, buatan, dikemb...                   1   \n",
       "7    [membedakan, benda, kerja, sifat, fungsi, pera...                   1   \n",
       "8    [menjatuhkan, batu, kertas, ketinggian, ruanga...                   1   \n",
       "13   [salah, contoh, kerajinan, tradisional, indone...                   1   \n",
       "18   [kebahagiaan, perasaan, damai, puas, pencapaia...                   1   \n",
       "..                                                 ...                 ...   \n",
       "851  [crossvalidation, salah, metode, pemisahan, da...                   0   \n",
       "852  [utilitas, memindahkan, model, dilatih, komput...                   0   \n",
       "856  [kebebasan, pers, indonesia, langsung, pasalpa...                   1   \n",
       "859  [tujuan, utama, tugas, berbasis, klasifikasi, ...                   1   \n",
       "863  [yokai, entitas, melampaui, pemahaman, manusia...                   1   \n",
       "\n",
       "     rasio_pos_tagging  rasio_stopword  \n",
       "4             0.606667        0.398998  \n",
       "7             0.758450        0.241968  \n",
       "8             0.608409        0.359802  \n",
       "13            0.629012        0.306736  \n",
       "18            0.551927        0.310078  \n",
       "..                 ...             ...  \n",
       "851           0.574987        0.299704  \n",
       "852           0.588953        0.355489  \n",
       "856           0.572114        0.269088  \n",
       "859           0.562554        0.327532  \n",
       "863           0.619133        0.316691  \n",
       "\n",
       "[766 rows x 11 columns]"
      ]
     },
     "execution_count": 181,
     "metadata": {},
     "output_type": "execute_result"
    }
   ],
   "source": [
    "data"
   ]
  }
 ],
 "metadata": {
  "kernelspec": {
   "display_name": "base",
   "language": "python",
   "name": "python3"
  },
  "language_info": {
   "codemirror_mode": {
    "name": "ipython",
    "version": 3
   },
   "file_extension": ".py",
   "mimetype": "text/x-python",
   "name": "python",
   "nbconvert_exporter": "python",
   "pygments_lexer": "ipython3",
   "version": "3.11.7"
  }
 },
 "nbformat": 4,
 "nbformat_minor": 2
}
